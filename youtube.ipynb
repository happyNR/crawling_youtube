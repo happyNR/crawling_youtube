{
 "cells": [
  {
   "cell_type": "markdown",
   "metadata": {},
   "source": [
    "# 셀레니움을 이용한 유튜브 크롤링"
   ]
  },
  {
   "cell_type": "code",
   "execution_count": 12,
   "metadata": {},
   "outputs": [],
   "source": [
    "import time\n",
    "import requests\n",
    "import pandas as pd\n",
    "from selenium import webdriver\n",
    "from bs4 import BeautifulSoup\n",
    "from selenium.common.exceptions import TimeoutException\n",
    "from selenium.webdriver.support.ui import WebDriverWait\n",
    "from selenium.webdriver.support import expected_conditions as EC\n",
    "from selenium.webdriver.common.by import By\n",
    "from selenium.common.exceptions import NoSuchElementException \n",
    "from selenium.webdriver.common.keys import Keys #스크롤다운의 key"
   ]
  },
  {
   "cell_type": "code",
   "execution_count": 13,
   "metadata": {},
   "outputs": [
    {
     "name": "stdout",
     "output_type": "stream",
     "text": [
      "크롤링 준비 완료\n"
     ]
    }
   ],
   "source": [
    "keyword = 'care routine'\n",
    "# search = keyword.replace('_','+')\n",
    "search = keyword.replace(' ','+')\n",
    "# chrome webdriver\n",
    "driver = webdriver.Chrome('C:/Users/snari/Downloads/chromedriver_win32/chromedriver.exe')\n",
    "url = f\"https://www.youtube.com/results?search_query={search}\"\n",
    "driver.get(url)\n",
    "\n",
    "#페이지 로딩\n",
    "# By.ID - 태그에 있는 ID 로 검색\n",
    "# By.CSS_SELECTOR - CSS Selector 로 검색\n",
    "# By.NAME - 태그에 있는 name 으로 검색\n",
    "# By.TAG_NAME - 태그 이름으로 검색\n",
    "try:\n",
    "    myElem = WebDriverWait(driver, 5).until(EC.presence_of_element_located((By.ID, 'UD7Dzf')))\n",
    "    print(\"크롤링 준비 완료\")\n",
    "except TimeoutException:\n",
    "    print(\"페이지 로딩 시간 초과\")\n",
    "    exit()\n",
    "except Exception as e:\n",
    "    print(e)\n",
    "    exit()"
   ]
  },
  {
   "cell_type": "code",
   "execution_count": 58,
   "metadata": {},
   "outputs": [
    {
     "data": {
      "text/plain": [
       "20"
      ]
     },
     "execution_count": 58,
     "metadata": {},
     "output_type": "execute_result"
    }
   ],
   "source": [
    "#스크롤 다운 전 크롤링(requests 사용)\n",
    "#URL의 초기페이지에 나와있는 게시글만 확인 가능함\n",
    "response = requests.get(url)\n",
    "soup = BeautifulSoup(response.text, 'html.parser')\n",
    "found_items = soup.select('div.yt-lockup-content > h3 > a')\n",
    "len(found_items)"
   ]
  },
  {
   "cell_type": "code",
   "execution_count": 15,
   "metadata": {},
   "outputs": [],
   "source": [
    "#html body 영역\n",
    "elem = driver.find_element_by_tag_name(\"body\")"
   ]
  },
  {
   "cell_type": "code",
   "execution_count": 16,
   "metadata": {},
   "outputs": [
    {
     "name": "stdout",
     "output_type": "stream",
     "text": [
      "1\n",
      "2\n",
      "3\n",
      "4\n",
      "5\n",
      "6\n",
      "7\n",
      "8\n",
      "9\n",
      "10\n"
     ]
    }
   ],
   "source": [
    "l=0\n",
    "num_of_pagedowns = 10\n",
    "while num_of_pagedowns: #0일 때 while 종료\n",
    "    elem.send_keys(Keys.PAGE_DOWN)\n",
    "    time.sleep(0.5)\n",
    "    num_of_pagedowns -= 1\n",
    "    l += 1\n",
    "    print(l)"
   ]
  },
  {
   "cell_type": "code",
   "execution_count": 20,
   "metadata": {},
   "outputs": [],
   "source": [
    "#마지막 페이지 체크 함수\n",
    "#'결과더이상없습니다'(message)가 나올때까지 message 나오면 TRUE 리턴\n",
    "def check_end():\n",
    "    try:\n",
    "        message = driver.find_element_by_id('message')\n",
    "    except NoSuchElementException:\n",
    "        return False\n",
    "    else: return True"
   ]
  },
  {
   "cell_type": "code",
   "execution_count": 21,
   "metadata": {
    "scrolled": false
   },
   "outputs": [
    {
     "name": "stdout",
     "output_type": "stream",
     "text": [
      "스크롤 다운 시작\n",
      "스크롤 다운 종료\n"
     ]
    }
   ],
   "source": [
    "print(\"스크롤 다운 시작\")\n",
    "l = 0\n",
    "while not check_end(): #check_end가 TRUE가 리턴될때까지 실행\n",
    "    elem.send_keys(Keys.PAGE_DOWN)\n",
    "    time.sleep(0.1)\n",
    "    l += 1\n",
    "    if l % 5 == 0:\n",
    "        print(l, \"번째 스크롤 다운\")\n",
    "    # 6번째서 종료\n",
    "#     if l == 6:\n",
    "#         break\n",
    "print(\"스크롤 다운 종료\")\n"
   ]
  },
  {
   "cell_type": "code",
   "execution_count": 17,
   "metadata": {},
   "outputs": [
    {
     "data": {
      "text/plain": [
       "58"
      ]
     },
     "execution_count": 17,
     "metadata": {},
     "output_type": "execute_result"
    }
   ],
   "source": [
    "#스크롤 다운 후 크롤링\n",
    "html = driver.page_source\n",
    "soup = BeautifulSoup(html, 'html.parser')\n",
    "found_items = soup.select('div.style-scope > ytd-video-renderer.style-scope')\n",
    "len(found_items)"
   ]
  },
  {
   "cell_type": "code",
   "execution_count": 19,
   "metadata": {},
   "outputs": [
    {
     "name": "stdout",
     "output_type": "stream",
     "text": [
      "\n",
      "                self care routine (pamper day)\n",
      "                48만회 Gabriella Whited\n",
      "\n",
      "                Pony's Nighttime Skin Care Routine 포니 스킨케어 루틴 | Go To Bed With Me | Harper's BAZAAR\n",
      "                404만회 Harper's BAZAAR\n",
      "\n",
      "                MY LIP CARE ROUTINE!\n",
      "                247만회 Luhhsetty\n",
      "\n",
      "                MY BODY CARE ROUTINE | Glowy Skin, What I Eat, Stretch Marks, Hair Removal… | Annie Jaffrey\n",
      "                32만회 AnnieJaffrey\n",
      "\n",
      "                MY -Pamper- SELF CARE ROUTINE\n",
      "                84만회 AlexandrasGirlyTalk\n",
      "\n",
      "                Body Care Routine | Dry Brushing For Body and Face | Model Tips\n",
      "                29만회 Valeria Lipovetsky\n",
      "\n",
      "                self-care day! (my pamper routine)\n",
      "                38만회 Sadie Aldis\n",
      "\n",
      "                Self Care Routine | mind.body.soul\n",
      "                7만회 Renee Amberg\n",
      "\n",
      "                MY HAIR CARE ROUTINE 2018\n",
      "                89만회 Amy Macedo\n",
      "\n",
      "                My Self-Care Routine | How to Pamper, Reset, Recharge & De-stress\n",
      "                6.8만회 Danielle Mansutti\n",
      "\n",
      "                my everyday skin care routine | Kylie Skin\n",
      "                709만회 Kylie Jenner\n",
      "\n",
      "                DIY ♥ Home Foot Care Routine\n",
      "                5.5만회 Katrinaosity\n",
      "\n",
      "                SUNDAY SELF-CARE ROUTINE\n",
      "                7.5만회 Stephanie Rose\n",
      "\n",
      "                self care day! (my pamper routine)\n",
      "                28만회 Summer Sheekey\n",
      "\n",
      "                SKINCARE ROUTINE -K BEAUTY Inspired\n",
      "                66만회 Jessalyn Grace\n",
      "\n",
      "                My Affordable & Clean Skin Care Routine\n",
      "                8.5만회 Milena Ciciotti\n",
      "\n",
      "                skin care routine II how I got flawless skin (say byeee to zits!)\n",
      "                48만회 Gabriella Whited\n",
      "\n",
      "                MY NIGHTTIME ROUTINE: GET UNREADY WITH ME!\n",
      "                157만회 Carli Bybel\n",
      "\n",
      "                Laura Dern's Everyday Self-Care Routine | Beauty Secrets | Vogue\n",
      "                21만회 Vogue\n",
      "\n",
      "                Rosie Huntington-Whiteley shares her skin care routine\n",
      "                100만회 Rosie Huntington-Whiteley\n",
      "\n",
      "                MY SKINCARE ROUTINE!\n",
      "                53만회 Luhhsetty\n",
      "\n",
      "                SKIN CARE ROUTINE | HOW I GOT RID OF TEXTURE IRREGULARITIES\n",
      "                441만회 Kiana Cuesta\n",
      "\n",
      "                My Morning Routine\n",
      "                1584만회 James Charles\n",
      "\n",
      "                12 Spiritual Minimalist Self Care Routine\n",
      "                11만회 Heal Your Living\n",
      "\n",
      "                MY WEEKLY LIP CARE ROUTINE | AlexandrasGirlyTalk\n",
      "                96만회 AlexandrasGirlyTalk\n",
      "\n",
      "                🔥Top 10 Skin Care Routine Instagram Compilation for Girls 2018\n",
      "                147만회 Diamond TV\n",
      "\n",
      "                MY MORNING SKIN CARE ROUTINE | Annie Jaffrey\n",
      "                38만회 AnnieJaffrey\n",
      "\n",
      "                Morning Skin Care Routine\n",
      "                306만회 Bretman Rock\n",
      "\n",
      "                MY NIGHT TIME SKIN CARE ROUTINE 2017\n",
      "                297만회 Maddie Ziegler\n",
      "\n",
      "                BEAUTY BASIC / Skin Care : Evening Routine\n",
      "                706만회 Michelle Phan\n",
      "\n",
      "                My Everyday Skin Care Routine - 2018 - Day and Night | Dr Mona Vand\n",
      "                46만회 Dr Mona Vand\n",
      "\n",
      "                10 Step Korean Skincare Routine x StyleKorean | 스킨케어 루틴\n",
      "                146만회 hauted0ll\n",
      "\n",
      "                Victoria's Secret Model Kelsey Merritt's Nighttime Skincare Routine | Go To Bed With Me\n",
      "                148만회 Harper's BAZAAR\n",
      "\n",
      "                **DERMATOLOGIST APPROVED** Skincare Routine | RENEE AMBERG\n",
      "                69만회 Renee Amberg\n",
      "\n",
      "                Dr. Pimple Popper's Nighttime Skincare Routine For Dry Skin | Go To Bed With Me | Harper's BAZAAR\n",
      "                120만회 Harper's BAZAAR\n",
      "\n",
      "                ASMR Skincare Routine | Relaxing AF\n",
      "                319만회 AlexandrasGirlyTalk\n",
      "\n",
      "                My Skin Care Routine | Kim Chiu PH\n",
      "                311만회 Kim Chiu PH\n",
      "\n",
      "                UPDATED SKIN CARE ROUTINE\n",
      "                14만회 Samantha Ravndahl\n",
      "\n",
      "                skin care routine\n",
      "                34만회 Audrey Mika\n",
      "\n",
      "                DERMATOLOGIST'S SKIN CARE ROUTINE FOR DAY & NIGHT: VLOGMAS DAY 4| DR DRAY\n",
      "                13만회 Dr Dray\n",
      "\n",
      "                My Skin Care Routine | Shani Grimmond\n",
      "                167만회 Shani Grimmond\n",
      "\n",
      "                GET UNREADY W ME! || skin care routine!\n",
      "                393만회 kenzie\n",
      "\n",
      "                Chantel Jeffries' Nighttime Skin Care Routine | Go to Bed With Me | Harper's BAZAAR\n",
      "                175만회 Harper's BAZAAR\n",
      "\n",
      "                Eunice's Daily Skin Care Routine | Wishtrend\n",
      "                32만회 Wishtrend TV\n",
      "\n",
      "                TREAT YO SELF: self care routine\n",
      "                88만회 Haley Pham\n",
      "\n",
      "                ✨MY SKIN CARE ROUTINE ✨\n",
      "                322만회 Dope Ethiopian\n",
      "\n",
      "                MY MORNING SKINCARE ROUTINE ♥️ | Erich Gonzales\n",
      "                78만회 Erich Gonzales\n",
      "\n",
      "                Get Unready With Me | Night Time Skin Care Routine | Diwalog Day 12 | Shreya Jain\n",
      "                10만회 Shreya Jain\n",
      "\n",
      "                THE BEST COUPLES SKIN CARE ROUTINE!!\n",
      "                13만회 KB AND KARLA\n",
      "\n",
      "                NIGHTTIME SKINCARE ROUTINE (with subs) | hyulari\n",
      "                61만회 HYULARI\n",
      "\n",
      "                Nina Dobrev's Nighttime Skincare Routine | Go To Bed With Me | Harper's BAZAAR\n",
      "                332만회 Harper's BAZAAR\n",
      "\n",
      "                My Evening Skin Care Routine\n",
      "                52만회 Dominique Sachse\n",
      "\n",
      "                A Dermatologist's Night Time Skin Care Routine (Summer 2018)| Dr Dray\n",
      "                8.4만회 Dr Dray\n",
      "\n",
      "                How to Get GLASS SKIN: Korean Skincare Routine\n",
      "                71만회 Soony Sun\n",
      "\n",
      "                DRUGSTORE SKIN CARE ROUTINE\n",
      "                1.6만회 Elizabeth Marie\n",
      "\n",
      "                MY SKIN CARE ROUTINE | How I get glowing + dewy skin! Acne Update\n",
      "                38만회 Sarahs Day\n",
      "\n",
      "                MY SKINCARE ROUTINE | Skai Jackson\n",
      "                113만회 Skai Jackson\n",
      "\n",
      "                My Weekly 300 Houseplant Care Routine! Easy & Cheap Indoor Plant Routine!\n",
      "                12만회 Harli G\n"
     ]
    }
   ],
   "source": [
    "data = []\n",
    "i=0\n",
    "for item in found_items:\n",
    "    i += 1\n",
    "    try:\n",
    "        thumbnail = item.select_one('a.yt-simple-endpoint > yt-img-shadow.ytd-thumbnail> img.yt-img-shadow')['src']\n",
    "    except:\n",
    "#         thumbnail = item.select_one('img', {'id' : 'img'})['src']\n",
    "        thumbnail = \"None\"\n",
    "    title = item.select_one('h3.title-and-badge > a').text\n",
    "    raw_viewcount = item.select_one('div.ytd-video-meta-block > span').text\n",
    "#     raw_viewcount = item.select_one('div.style-scope_ytd-video-meta-block > span').text     style-scope만쓰면 안됨\n",
    "    viewcount = raw_viewcount[3:]\n",
    "#     a = item.select_one('div.ytd-video-meta-block > div.style-scope')\n",
    "#     a = item.find('div', {'id' : 'ex_id'})\n",
    "    name = item.select_one('yt-formatted-string.style-scope > a').text\n",
    "    length = item.select_one('ytd-thumbnail-overlay-time-status-renderer.style-scope > span').text\n",
    "    raw_url = item.select_one('a',{'id':'thumbnail'})['href']\n",
    "    url = 'https://www.youtube.com'+ raw_url\n",
    "#     length = item.find_element_by_class_name('style-scope ytd-thumbnail-overlay-time-status-renderer').get_attribute(\"aria-label\")\n",
    "    value = [thumbnail, title, viewcount, name, length, url]\n",
    "    data.append(value)\n",
    "    \n",
    "    "
   ]
  },
  {
   "cell_type": "code",
   "execution_count": 30,
   "metadata": {},
   "outputs": [],
   "source": [
    "df = pd.DataFrame(data, columns=['썸네일', '제목', '조회수', '닉네임', '재생시간', 'URL'])"
   ]
  },
  {
   "cell_type": "code",
   "execution_count": 36,
   "metadata": {},
   "outputs": [],
   "source": [
    "df.to_excel('C:/Users/snari/python study/2주차_new/youtube.xlsx', index=False)"
   ]
  },
  {
   "cell_type": "code",
   "execution_count": 4,
   "metadata": {
    "scrolled": true
   },
   "outputs": [
    {
     "data": {
      "text/plain": [
       "20"
      ]
     },
     "execution_count": 4,
     "metadata": {},
     "output_type": "execute_result"
    }
   ],
   "source": [
    "found_box = driver.find_elements_by_css_selector(\"#contents > ytd-video-renderer\")\n",
    "len(found_box)"
   ]
  },
  {
   "cell_type": "code",
   "execution_count": 9,
   "metadata": {},
   "outputs": [
    {
     "name": "stdout",
     "output_type": "stream",
     "text": [
      "https://www.youtube.com/watch?v=dM1vWwidK9g\n",
      "https://www.youtube.com/watch?v=Cz_-SD_6SdE\n",
      "https://www.youtube.com/watch?v=fgELyoHZSWg\n",
      "https://www.youtube.com/watch?v=eiqeSMyDNkQ\n",
      "https://www.youtube.com/watch?v=8rawD5i2-Lo\n",
      "https://www.youtube.com/watch?v=unaRagDUS30\n",
      "https://www.youtube.com/watch?v=uz50DSdXb8k\n",
      "https://www.youtube.com/watch?v=hvTmYvCChGc\n",
      "https://www.youtube.com/watch?v=dakFbtpH7hw\n",
      "https://www.youtube.com/watch?v=2aUL2Jzdnoc\n",
      "https://www.youtube.com/watch?v=R28RNkRGJKs\n",
      "https://www.youtube.com/watch?v=qANGyUxtTQM\n",
      "https://www.youtube.com/watch?v=yDela477waA\n",
      "https://www.youtube.com/watch?v=sGE1AGd9UV8\n",
      "https://www.youtube.com/watch?v=7vfxRU4Id0g\n",
      "https://www.youtube.com/watch?v=dUo388-duuU\n",
      "https://www.youtube.com/watch?v=9NYvhm0cRx8\n",
      "https://www.youtube.com/watch?v=OZYgGUvUf0E\n",
      "https://www.youtube.com/watch?v=xo-F2dttJe0\n",
      "https://www.youtube.com/watch?v=T_4DhyYzHr8\n"
     ]
    }
   ],
   "source": [
    "for box in found_box:\n",
    "    title = box.find_element_by_css_selector('#video-title')\n",
    "    link = title.get_attribute(\"href\")\n",
    "    print(link)"
   ]
  }
 ],
 "metadata": {
  "kernelspec": {
   "display_name": "Python 3",
   "language": "python",
   "name": "python3"
  },
  "language_info": {
   "codemirror_mode": {
    "name": "ipython",
    "version": 3
   },
   "file_extension": ".py",
   "mimetype": "text/x-python",
   "name": "python",
   "nbconvert_exporter": "python",
   "pygments_lexer": "ipython3",
   "version": "3.7.8"
  }
 },
 "nbformat": 4,
 "nbformat_minor": 2
}
